{
 "cells": [
  {
   "cell_type": "markdown",
   "id": "c86caa73",
   "metadata": {},
   "source": [
    "### Data Deduplication\n",
    "\n",
    "At present, the data deduplication module just provides a wrapper around the `recordlinkage` python package.\n",
    "\n",
    "This package needs to be configured by providing a set of rules for comparing columns.\n",
    "\n",
    "As an example, we can use the `fodor zagat` dataset, available from [here](https://github.com/daqcri/deeper-lite/tree/master/Lua/data/fodors-zagats) and the `dedupe_examples` available [here](https://github.com/dedupeio/dedupe-examples)"
   ]
  },
  {
   "cell_type": "code",
   "execution_count": null,
   "id": "dee796b2",
   "metadata": {},
   "outputs": [],
   "source": [
    "from dqp import DataSource, DeduplicationModule\n",
    "import pandas as pd\n",
    "import os\n",
    "from sklearn.metrics import f1_score, precision_score, recall_score\n",
    "import numpy as np\n",
    "\n",
    "_DATA_FOLDER_ROOT = \"./datasets/dupl/\"\n",
    "\n",
    "def load_dedupe_example():\n",
    "    path = os.path.join(_DATA_FOLDER_ROOT,\"dedupe/csv_example_messy_input.csv\")\n",
    "\n",
    "    df = pd.read_csv(path)\n",
    "    data= DataSource(df)\n",
    "    path =  os.path.join(_DATA_FOLDER_ROOT,\"dedupe/csv_example_input_with_true_ids.csv\")\n",
    "    real_labels = pd.read_csv(path)\n",
    "    return data, real_labels\n",
    "\n",
    "    \n",
    "def load_fodor_zagat():\n",
    "    fodor_path = os.path.join(_DATA_FOLDER_ROOT, \"fozag/fodors.csv\")\n",
    "    zagat_path = os.path.join(_DATA_FOLDER_ROOT, \"fozag/zagats.csv\")\n",
    "    perfect_path = os.path.join(\n",
    "        _DATA_FOLDER_ROOT, \"fozag/fodors-zagats_perfectMapping.csv\"\n",
    "    )\n",
    "\n",
    "    fodor = pd.read_csv(fodor_path)\n",
    "    zagat = pd.read_csv(zagat_path)\n",
    "    perfect = pd.read_csv(perfect_path)\n",
    "\n",
    "    df = pd.concat([fodor, zagat], axis=0, ignore_index=True)\n",
    "    data = DataSource(df)\n",
    "    return data, perfect\n",
    "\n",
    "    \n",
    "    \n",
    "    "
   ]
  },
  {
   "cell_type": "code",
   "execution_count": null,
   "id": "be7f6dc5",
   "metadata": {},
   "outputs": [],
   "source": [
    "data, labels = load_fodor_zagat()\n",
    "data._df"
   ]
  },
  {
   "cell_type": "code",
   "execution_count": null,
   "id": "b6188e92",
   "metadata": {},
   "outputs": [],
   "source": [
    "label_matching_dict = {}\n",
    "for label_a, label_b in zip(labels['fodors_id'].values, labels['zagats_id'].values):\n",
    "    \n",
    "    label_matching_dict[label_a]=label_b\n",
    "    label_matching_dict[label_b]=label_a\n",
    "    \n",
    "correct_label=[]\n",
    "for val in data._df['id']:\n",
    "    \n",
    "    correct_label.append( val in label_matching_dict)"
   ]
  },
  {
   "cell_type": "markdown",
   "id": "318fb59e",
   "metadata": {},
   "source": [
    "## Defining the configuration\n",
    "\n",
    "```processing options``` - `describe` will add an `is_duplicate` annotation to the data. `remove` will remove duplicate rows.\n",
    "\n",
    "```linkage_rules``` - for each pair of columns we want to compare, we define a rule e.g `field_1`, `field_2` the comparison method `base_method` (e.g string, numeric, date, geo) and any further parameters (see recordlinkage documentation for these.\n",
    "\n",
    "`match_threshold` - how many matched columns are required to determine if the rows are matches.\n",
    "\n",
    "`indexing method` - choice of `Full` `Block` or `Neighbourhood`. Block of neighbourhood indexing greatly speed up the process, but require you to select an `index` column."
   ]
  },
  {
   "cell_type": "code",
   "execution_count": null,
   "id": "b4faf6ef",
   "metadata": {},
   "outputs": [],
   "source": [
    "config = {\n",
    "        \"processing_options\":'describe',\n",
    "        \"model_config\": {\n",
    "            \"linkage_rules\": [\n",
    "                {\n",
    "                    \"field_1\": \"name\",\n",
    "                    \"field_2\": \"name\",\n",
    "                    \"base_method\": \"string\",\n",
    "                    \"parameters\": {},\n",
    "                },\n",
    "                {\n",
    "                    \"field_1\": \"addr\",\n",
    "                    \"field_2\": \"addr\",\n",
    "                    \"base_method\": \"string\",\n",
    "                    \"parameters\": {},\n",
    "                },\n",
    "                {\n",
    "                    \"field_1\": \"phone\",\n",
    "                    \"field_2\": \"phone\",\n",
    "                    \"base_method\": \"string\",\n",
    "                    \"parameters\": {},\n",
    "                },\n",
    "#                    {\n",
    "#                     \"field-1\": \"city\",\n",
    "#                     \"field-2\": \"city\",\n",
    "#                     \"base_method\": \"string\",\n",
    "#                     \"parameters\": {},\n",
    "#                 },\n",
    "                #  {'field-1':'city', 'field-2':'city', 'base_method':'string', 'parameters':{}},\n",
    "            ],\n",
    "            \"match_threshold\": 2,\n",
    "            \"indexing_method\": 'Full',\n",
    "            \"index_column\": \"city\",\n",
    "        }\n",
    "    }\n",
    "\n",
    "module = DeduplicationModule(**config)\n",
    "result =  module.process(data)._df"
   ]
  },
  {
   "cell_type": "code",
   "execution_count": null,
   "id": "c19e0652",
   "metadata": {},
   "outputs": [],
   "source": [
    "result"
   ]
  },
  {
   "cell_type": "code",
   "execution_count": null,
   "id": "93e5ba20",
   "metadata": {},
   "outputs": [],
   "source": [
    "#raw accuracy\n",
    "\n",
    "# random baseline - randomly label N duplicates according to the percentage of duplicates returned by the algorithm\n",
    "fake_label = np.zeros(len(correct_label)) \n",
    "percent=result['_is_duplicate'].mean()/2\n",
    "for i in range(len(fake_label)):\n",
    "    for j in range(len(fake_label)):\n",
    "        if np.random.random() < percent/len(fake_label):\n",
    "            fake_label[i]=True\n",
    "            fake_label[j]=True\n",
    "print('Baseline scores...\\n**********')\n",
    "print('Precision',precision_score(fake_label, correct_label))\n",
    "print('Recall',recall_score(fake_label, correct_label))\n",
    "print('F1',f1_score(fake_label, correct_label))\n",
    "print('*****\\nRecord linkage score...\\n*********')\n",
    "from sklearn.metrics import accuracy_score\n",
    "print('Precision',precision_score(result['_is_duplicate'], correct_label))\n",
    "print('Recall',recall_score(result['_is_duplicate'], correct_label))\n",
    "print('F1',f1_score(result['_is_duplicate'], correct_label))"
   ]
  },
  {
   "cell_type": "code",
   "execution_count": null,
   "id": "ed4a387d",
   "metadata": {},
   "outputs": [],
   "source": [
    "data, real_labels = load_dedupe_example()\n",
    "data._df"
   ]
  },
  {
   "cell_type": "code",
   "execution_count": null,
   "id": "fd83dcd7",
   "metadata": {},
   "outputs": [],
   "source": [
    "real = real_labels['Id']\n",
    "correct_label = np.array( [\n",
    "    label_1 in real and label_1 != label_2 for label_1, label_2 in zip(real_labels['True Id'], real_labels['Id'])\n",
    "])"
   ]
  },
  {
   "cell_type": "code",
   "execution_count": null,
   "id": "abdd0fa5",
   "metadata": {},
   "outputs": [],
   "source": [
    "config = {\n",
    "        \"processing_options\":'describe',\n",
    "        \"model_config\": {\n",
    "            \"linkage_rules\": [\n",
    "                {\n",
    "                    \"field_1\": \"Site name\",\n",
    "                    \"field_2\": \"Site name\",\n",
    "                    \"base_method\": \"string\",\n",
    "                    \"parameters\": {'method':\"jarowinkler\"},\n",
    "                },\n",
    "                {\n",
    "                    \"field_1\": \"Address\",\n",
    "                    \"field_2\": \"Address\",\n",
    "                    \"base_method\": \"string\",\n",
    "                    \"parameters\": {'method':'jarowinkler'},\n",
    "                },\n",
    "                #  {'field-1':'city', 'field-2':'city', 'base_method':'string', 'parameters':{}},\n",
    "            ],\n",
    "            \"match_threshold\": 2 ,\n",
    "            \"method\": \"RecordLinkageDeduplication\",\n",
    "            \"indexing_method\": 'Block',\n",
    "            \"index_column\": \"Program Name\",\n",
    "        }\n",
    "    }\n",
    "\n",
    "module = DeduplicationModule(**config)\n",
    "result =  module.process(data)._df\n",
    "result"
   ]
  },
  {
   "cell_type": "code",
   "execution_count": null,
   "id": "2b9e4862",
   "metadata": {},
   "outputs": [],
   "source": [
    "\n",
    "\n",
    "#baseline\n",
    "fake_label = np.zeros(len(correct_label)) \n",
    "percent=result['_is_duplicate'].mean()/2\n",
    "for i in range(len(fake_label)):\n",
    "    for j in range(len(fake_label)):\n",
    "        if np.random.random() < percent/len(fake_label):\n",
    "            fake_label[i]=True\n",
    "            fake_label[j]=True\n",
    "\n",
    "\n",
    "print('Baseline scores...\\n**********')\n",
    "print('Precision',precision_score(fake_label, correct_label))\n",
    "print('Recall',recall_score(fake_label, correct_label))\n",
    "print('F1',f1_score(fake_label, correct_label))\n",
    "print('******\\nRecord linkage score...\\n*********')\n",
    "from sklearn.metrics import accuracy_score\n",
    "print('Precision',precision_score(result['_is_duplicate'], correct_label))\n",
    "print('Recall',recall_score(result['_is_duplicate'], correct_label))\n",
    "print('F1',f1_score(result['_is_duplicate'], correct_label))"
   ]
  },
  {
   "cell_type": "code",
   "execution_count": null,
   "id": "2084e616",
   "metadata": {},
   "outputs": [],
   "source": []
  }
 ],
 "metadata": {
  "kernelspec": {
   "display_name": "Python 3 (ipykernel)",
   "language": "python",
   "name": "python3"
  },
  "language_info": {
   "codemirror_mode": {
    "name": "ipython",
    "version": 3
   },
   "file_extension": ".py",
   "mimetype": "text/x-python",
   "name": "python",
   "nbconvert_exporter": "python",
   "pygments_lexer": "ipython3",
   "version": "3.9.17"
  }
 },
 "nbformat": 4,
 "nbformat_minor": 5
}
