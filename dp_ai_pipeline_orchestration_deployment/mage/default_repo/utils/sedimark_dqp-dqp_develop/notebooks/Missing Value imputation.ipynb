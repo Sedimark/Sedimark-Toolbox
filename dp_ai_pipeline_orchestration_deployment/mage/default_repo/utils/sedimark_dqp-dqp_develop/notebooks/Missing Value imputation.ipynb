{
 "cells": [
  {
   "cell_type": "markdown",
   "id": "d600c6a4",
   "metadata": {},
   "source": [
    "## Missing Value Imputation\n",
    "\n",
    "The missing value imputation module features a number of different methods. \n",
    "\n",
    "For time series, `Interpolation` can work fairly well.\n",
    "\n",
    "For other numeric data, `KNNImputer` from sklearn can work werll.\n",
    "\n",
    "`SimpleImputer` will fill missing categorical values with the most frequent label, while `LogisticRegression` will attempt to model missing categorical values based on the complete rows in the dataset.\n",
    "\n"
   ]
  },
  {
   "cell_type": "code",
   "execution_count": null,
   "id": "b7b738d5",
   "metadata": {},
   "outputs": [],
   "source": [
    "from dqp.data_loaders import load_fv, load_egm, load_santander_statuses\n",
    "from dqp import MissingImputationModule\n",
    "import pandas as pd\n",
    "import numpy as np\n",
    "%matplotlib inline\n",
    "from matplotlib import pyplot as plt\n",
    "import warnings\n",
    "from sklearn.metrics import r2_score\n",
    "warnings.filterwarnings(\"ignore\")"
   ]
  },
  {
   "cell_type": "code",
   "execution_count": null,
   "id": "7a3e824c",
   "metadata": {},
   "outputs": [],
   "source": [
    "methods=MissingImputationModule.list_available_methods()\n",
    "methods"
   ]
  },
  {
   "cell_type": "markdown",
   "id": "9d589610",
   "metadata": {},
   "source": [
    "## Numeric methods on FV dataset (has missing values)"
   ]
  },
  {
   "cell_type": "code",
   "execution_count": null,
   "id": "e89e6516",
   "metadata": {},
   "outputs": [],
   "source": [
    "data_ecocounter, _, __ = load_fv(\"./datasets/fv/\")\n",
    "data_ecocounter._df\n"
   ]
  },
  {
   "cell_type": "code",
   "execution_count": null,
   "id": "f52e2618",
   "metadata": {},
   "outputs": [],
   "source": [
    "\n",
    "config = {\n",
    "    \n",
    "    'imputation_method':'KNNImputer'\n",
    "    \n",
    "    \n",
    "}\n",
    "module=MissingImputationModule(**config)\n",
    "result = module.process(data_ecocounter)\n",
    "result._df"
   ]
  },
  {
   "cell_type": "markdown",
   "id": "06cb6a72",
   "metadata": {},
   "source": [
    "## EGM - no missing values so we create some"
   ]
  },
  {
   "cell_type": "code",
   "execution_count": null,
   "id": "6ef538ca",
   "metadata": {},
   "outputs": [],
   "source": [
    "data = load_egm(\"./datasets/egm/\")\n",
    "print(data._numeric_columns)\n",
    "real_values = data._df.copy()\n",
    "#add null values\n",
    "\n",
    "for col in ['illuminance', 'precipitation', 'irradiance', 'windspeedgust',\n",
    "       'windspeedavg', 'humidity', 'temperature']:\n",
    "    \n",
    "    idx = np.random.random(len(data._df)) < 0.1\n",
    "    data._df[col][idx]=np.nan\n",
    "null_values=data._df.copy()\n",
    "data._df"
   ]
  },
  {
   "cell_type": "code",
   "execution_count": null,
   "id": "8f94e84e",
   "metadata": {},
   "outputs": [],
   "source": [
    "#Define configuration\n",
    "\n",
    "config = {\n",
    "    \n",
    "    'imputation_method':'Interpolation'\n",
    "    \n",
    "    \n",
    "}\n",
    "module=MissingImputationModule(**config)\n",
    "result = module.process(data)\n",
    "print(result._df.isnull().any())\n",
    "result._df\n"
   ]
  },
  {
   "cell_type": "code",
   "execution_count": null,
   "id": "edef7042",
   "metadata": {},
   "outputs": [],
   "source": [
    "#evaluate\n",
    "\n",
    "for col in ['illuminance', 'precipitation', 'irradiance', 'windspeedgust',\n",
    "       'windspeedavg', 'humidity', 'temperature']:\n",
    "\n",
    "    null_idx = null_values[col].isnull()\n",
    "    print(col, 'r2_score', r2_score(real_values[col][null_idx], result._df[col][null_idx]))\n",
    " \n"
   ]
  },
  {
   "cell_type": "markdown",
   "id": "b86bb37c-677c-4760-8a50-cbbdfc0cc1d6",
   "metadata": {},
   "source": [
    "### try again for KNN Imputer"
   ]
  },
  {
   "cell_type": "code",
   "execution_count": null,
   "id": "6beb1451",
   "metadata": {},
   "outputs": [],
   "source": [
    "data = load_egm(\"./datasets/egm/\")\n",
    "print(data._numeric_columns)\n",
    "real_values = data._df.copy()\n",
    "#add null values\n",
    "\n",
    "for col in ['illuminance', 'precipitation', 'irradiance', 'windspeedgust',\n",
    "       'windspeedavg', 'humidity', 'temperature']:\n",
    "    \n",
    "    idx = np.random.random(len(data._df)) < 0.1\n",
    "    data._df[col][idx]=np.nan\n",
    "null_values=data._df.copy()\n",
    "data._df"
   ]
  },
  {
   "cell_type": "code",
   "execution_count": null,
   "id": "c4f58750",
   "metadata": {},
   "outputs": [],
   "source": [
    "config = {\n",
    "    \n",
    "    'imputation_method':'KNNImputer'\n",
    "    \n",
    "    \n",
    "}\n",
    "module=MissingImputationModule(**config)\n",
    "result = module.process(data)\n",
    "result._df"
   ]
  },
  {
   "cell_type": "code",
   "execution_count": null,
   "id": "31405109",
   "metadata": {},
   "outputs": [],
   "source": [
    "#evaluate\n",
    "\n",
    "for col in ['illuminance', 'precipitation', 'irradiance', 'windspeedgust',\n",
    "       'windspeedavg', 'humidity', 'temperature']:\n",
    "\n",
    "    null_idx = null_values[col].isnull()\n",
    "    print(col, 'r2_score', r2_score(real_values[col][null_idx], result._df[col][null_idx]))\n",
    " \n"
   ]
  },
  {
   "cell_type": "markdown",
   "id": "a870d41a",
   "metadata": {},
   "source": [
    "## Categorical Imputation - Santander"
   ]
  },
  {
   "cell_type": "code",
   "execution_count": null,
   "id": "7a1dac7c",
   "metadata": {},
   "outputs": [],
   "source": [
    "data=load_santander_statuses(\"./datasets/uc/dataset_SDR_example.jsonld\")\n",
    "# data._df['battery']=data._df['battery'].astype(data._df.dtypes['battery'])"
   ]
  },
  {
   "cell_type": "code",
   "execution_count": null,
   "id": "41ca8922",
   "metadata": {},
   "outputs": [],
   "source": [
    "for col in ['id']:\n",
    "    \n",
    "    idx = np.random.random(len(data._df)) < 0.1\n",
    "    data._df[col][idx]=np.nan\n",
    "    \n",
    "    #Define configuration\n",
    "\n",
    "data._df"
   ]
  },
  {
   "cell_type": "code",
   "execution_count": null,
   "id": "a5cf4ee6",
   "metadata": {},
   "outputs": [],
   "source": [
    "\n",
    "config = {\n",
    "    \n",
    "    'imputation_method':'SimpleImputer'\n",
    "    \n",
    "    \n",
    "}\n",
    "module=MissingImputationModule(**config)\n",
    "result = module.process(data)\n",
    "print(result._df.isnull().any())\n",
    "result._df"
   ]
  },
  {
   "cell_type": "code",
   "execution_count": null,
   "id": "f36589fe-5b89-42f7-98c3-68a432bd575c",
   "metadata": {},
   "outputs": [],
   "source": []
  },
  {
   "cell_type": "code",
   "execution_count": null,
   "id": "9dec103c-fd67-4d12-a6a9-a22754719069",
   "metadata": {},
   "outputs": [],
   "source": []
  }
 ],
 "metadata": {
  "kernelspec": {
   "display_name": "Python 3 (ipykernel)",
   "language": "python",
   "name": "python3"
  },
  "language_info": {
   "codemirror_mode": {
    "name": "ipython",
    "version": 3
   },
   "file_extension": ".py",
   "mimetype": "text/x-python",
   "name": "python",
   "nbconvert_exporter": "python",
   "pygments_lexer": "ipython3",
   "version": "3.9.17"
  }
 },
 "nbformat": 4,
 "nbformat_minor": 5
}
