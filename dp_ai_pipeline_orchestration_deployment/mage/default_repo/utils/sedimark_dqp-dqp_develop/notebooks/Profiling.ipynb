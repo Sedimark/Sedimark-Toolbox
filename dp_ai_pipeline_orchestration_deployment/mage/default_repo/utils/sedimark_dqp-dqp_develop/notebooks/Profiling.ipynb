{
 "cells": [
  {
   "cell_type": "markdown",
   "id": "242f8f9f",
   "metadata": {},
   "source": [
    "## Data Profling\n",
    "\n"
   ]
  },
  {
   "cell_type": "code",
   "execution_count": null,
   "id": "f96af8b9",
   "metadata": {},
   "outputs": [],
   "source": [
    "from dqp.data_loaders import load_egm, load_santander_statuses, load_fv, load_egm2\n",
    "from dqp import DataProfilingModule"
   ]
  },
  {
   "cell_type": "markdown",
   "id": "7a285f8a-4bd1-4450-b34e-37ed53cf3715",
   "metadata": {},
   "source": [
    "### Load and process EGM's data"
   ]
  },
  {
   "cell_type": "code",
   "execution_count": null,
   "id": "2adacd86",
   "metadata": {},
   "outputs": [],
   "source": [
    "path=\"./datasets/egm/\"\n",
    "data = load_egm(path)\n",
    "module=DataProfilingModule()\n",
    "result=module.process(data)\n"
   ]
  },
  {
   "cell_type": "code",
   "execution_count": null,
   "id": "f88b5a2d",
   "metadata": {
    "scrolled": true
   },
   "outputs": [],
   "source": [
    "### view the basic results for the whole dataset\n",
    "### results include: \n",
    "### - number of columns (variables)\n",
    "### - total number of missing cells and percentage of cells missing\n",
    "### - total size in KBs and average per column\n",
    "### - correlation of columns/variables in tabular format\n",
    "### - colinearity of columns, in terms of pearson correlation of the values in the regression analysis for the values of the column\n",
    "\n",
    "result._description\n"
   ]
  },
  {
   "cell_type": "code",
   "execution_count": null,
   "id": "304f3bb1",
   "metadata": {
    "scrolled": true
   },
   "outputs": [],
   "source": [
    "### view the detailed results per column\n",
    "### results depend of the type of columns: \n",
    "### numerical columns: \n",
    "### - name, data type\n",
    "### - number and percentage of missing, duplicate, unique cells \n",
    "### - min/max/average/std/median/25,50,75% percentiles\n",
    "### - histogram\n",
    "### - consistency (data within ranges that are pre-defined), skewness, kurtosis\n",
    "### - mean absolute deviation\n",
    "###\n",
    "### datetime columns:\n",
    "### - name, datatype, missing, duplicates, unique\n",
    "### - minimum/maximum data difference between consecutive values\n",
    "### - mean/median/iqr/std regularity (mean/median difference between consecutive dates)\n",
    "### - histogram of date differences\n",
    "### - number of missing values based on regularity\n",
    "### - completeness based on regularity\n",
    "###\n",
    "### object columns: \n",
    "### - name, type, missing, duplicates, unique\n",
    "### - min/max/average/median length of string and the histogram\n",
    "### - label frequency per label (assuming it's a label/class columns)\n",
    "### - imbalance statistics (imbalance ratio (IR), imbalance degree, log likelihood index, tangential imbalance index, normalised entropy\n",
    "### --> if IR==1 --> perfectly balanced dataset. Higher IR --> larger imbalance\n",
    "### --> LRID --> higher means inbalance\n",
    "### --> Normalised cross entropy --> higher means inbalance\n",
    "### - class overlap, measured by Fisher's discriminant ratio-->  higher values == higher complexity - classes can't be differentiated by the features\n",
    "### - unalikeability, as a measure of how similar/different are the values in the column (0 == all the same, 1==all different)\n",
    "###\n",
    "### boolean columns:\n",
    "### - name, type, missing, duplicates, unique\n",
    "### - label frequency\n",
    "### - imbalance statistics\n",
    "\n",
    "\n",
    "result._column_profiles"
   ]
  },
  {
   "cell_type": "markdown",
   "id": "e8fd6f89-7087-4fd9-8561-0d23c7160e37",
   "metadata": {},
   "source": [
    "### Load the new datasets from EGM"
   ]
  },
  {
   "cell_type": "code",
   "execution_count": null,
   "id": "c2ec5df8-589f-4749-9758-ca1e73cdae34",
   "metadata": {},
   "outputs": [],
   "source": [
    "path=\"./datasets/egm2/EGM_farm_demo.csv\"\n",
    "data = load_egm2(path)\n",
    "\n",
    "# path=\"/home/elias/git/sedim/SEDIMARK-UCD/datasets/egm2/Flow-data.csv\"\n",
    "# data = load_egm2(path,timecol=\"Time\")\n",
    "\n",
    "# path=\"./datasets/egm2/Water level-data.csv\"\n",
    "# data = load_egm2(path,timecol=\"Time\")\n",
    "\n",
    "\n",
    "# path=\"./datasets/egm2/WeatherInforamtion_Les_Orres.csv\"\n",
    "# data = load_egm2(path,delimiter=\";\")\n",
    "\n",
    "module=DataProfilingModule()\n",
    "result=module.process(data)\n",
    "\n"
   ]
  },
  {
   "cell_type": "code",
   "execution_count": null,
   "id": "368a8b43-982e-4de4-94f8-7725e4393b24",
   "metadata": {},
   "outputs": [],
   "source": [
    "result._description"
   ]
  },
  {
   "cell_type": "code",
   "execution_count": null,
   "id": "aabadcbe-a9f4-422a-b81e-2456ef3e61cb",
   "metadata": {},
   "outputs": [],
   "source": [
    "\n",
    "result._column_profiles"
   ]
  },
  {
   "cell_type": "markdown",
   "id": "8128a322-23bd-4472-ab13-7631f63154d9",
   "metadata": {},
   "source": [
    "### Load and process SDR dataset"
   ]
  },
  {
   "cell_type": "code",
   "execution_count": null,
   "id": "346877af",
   "metadata": {},
   "outputs": [],
   "source": [
    "data = load_santander_statuses(\"./datasets/uc/dataset_SDR_example.jsonld\")\n",
    "module=DataProfilingModule()\n",
    "result=module.process(data)\n"
   ]
  },
  {
   "cell_type": "code",
   "execution_count": null,
   "id": "7c575bf8",
   "metadata": {
    "scrolled": true
   },
   "outputs": [],
   "source": [
    "result._description"
   ]
  },
  {
   "cell_type": "code",
   "execution_count": null,
   "id": "bd367382",
   "metadata": {},
   "outputs": [],
   "source": [
    "result._column_profiles"
   ]
  },
  {
   "cell_type": "markdown",
   "id": "19293d0b-a86a-4be9-808e-fdfe744c0b4e",
   "metadata": {},
   "source": [
    "  ### Load and process FV dataset"
   ]
  },
  {
   "cell_type": "code",
   "execution_count": null,
   "id": "9c8fd53e-e6de-4af8-9b5e-d30a7e5a05e6",
   "metadata": {},
   "outputs": [],
   "source": [
    "data, _, __ = load_fv(\"/home/elias/git/sedim/SEDIMARK-UCD/datasets/fv/\")\n",
    "module=DataProfilingModule()\n",
    "result=module.process(data)\n"
   ]
  },
  {
   "cell_type": "code",
   "execution_count": null,
   "id": "1d924a2d-d15b-472f-a14c-dd0e2f0e5607",
   "metadata": {},
   "outputs": [],
   "source": [
    "result._description"
   ]
  },
  {
   "cell_type": "code",
   "execution_count": null,
   "id": "7fadd3c0-f2e4-419c-ab5d-ee975f51a363",
   "metadata": {},
   "outputs": [],
   "source": [
    "result._column_profiles"
   ]
  },
  {
   "cell_type": "code",
   "execution_count": null,
   "id": "8dac1e1f-629d-4742-86c7-ae3d8a100006",
   "metadata": {},
   "outputs": [],
   "source": []
  }
 ],
 "metadata": {
  "kernelspec": {
   "display_name": "Python 3 (ipykernel)",
   "language": "python",
   "name": "python3"
  },
  "language_info": {
   "codemirror_mode": {
    "name": "ipython",
    "version": 3
   },
   "file_extension": ".py",
   "mimetype": "text/x-python",
   "name": "python",
   "nbconvert_exporter": "python",
   "pygments_lexer": "ipython3",
   "version": "3.9.17"
  }
 },
 "nbformat": 4,
 "nbformat_minor": 5
}
